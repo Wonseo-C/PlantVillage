{
 "cells": [
  {
   "cell_type": "code",
   "execution_count": 1,
   "metadata": {},
   "outputs": [
    {
     "name": "stderr",
     "output_type": "stream",
     "text": [
      "/Users/wonseo/miniforge3/envs/ml/lib/python3.8/site-packages/tqdm/auto.py:22: TqdmWarning: IProgress not found. Please update jupyter and ipywidgets. See https://ipywidgets.readthedocs.io/en/stable/user_install.html\n",
      "  from .autonotebook import tqdm as notebook_tqdm\n"
     ]
    }
   ],
   "source": [
    "from model import ShallowCNN, ShallowVGG\n",
    "import torchvision\n",
    "\n",
    "# vgg16\n",
    "vgg16 = torchvision.models.vgg16()\n",
    "# shallow CNN\n",
    "shallowCNN = ShallowCNN()\n",
    "# shallow VGG\n",
    "shallowVGG = ShallowVGG()"
   ]
  },
  {
   "cell_type": "code",
   "execution_count": 2,
   "metadata": {},
   "outputs": [
    {
     "name": "stdout",
     "output_type": "stream",
     "text": [
      "VGG16's trainable parameter:  138357544\n",
      "Shallow CNN's trainable parameter:  260160\n",
      "Shallow VGG's parameter 265191\n"
     ]
    }
   ],
   "source": [
    "# Count the parameters\n",
    "def count_parameters(model):\n",
    "    return sum(p.numel() for p in model.parameters() if p.requires_grad)\n",
    "print(\"VGG16's trainable parameter: \", count_parameters(vgg16))\n",
    "print(\"Shallow CNN's trainable parameter: \", count_parameters(shallowCNN))\n",
    "print(\"Shallow VGG's parameter\", count_parameters(shallowVGG))"
   ]
  },
  {
   "cell_type": "code",
   "execution_count": 32,
   "metadata": {},
   "outputs": [
    {
     "name": "stdout",
     "output_type": "stream",
     "text": [
      "-----VGG16's layers-----\n",
      "odict_keys(['features.0.weight', 'features.0.bias', 'features.2.weight', 'features.2.bias', 'features.5.weight', 'features.5.bias', 'features.7.weight', 'features.7.bias', 'features.10.weight', 'features.10.bias', 'features.12.weight', 'features.12.bias', 'features.14.weight', 'features.14.bias', 'features.17.weight', 'features.17.bias', 'features.19.weight', 'features.19.bias', 'features.21.weight', 'features.21.bias', 'features.24.weight', 'features.24.bias', 'features.26.weight', 'features.26.bias', 'features.28.weight', 'features.28.bias', 'classifier.0.weight', 'classifier.0.bias', 'classifier.3.weight', 'classifier.3.bias', 'classifier.6.weight', 'classifier.6.bias'])\n",
      "-----Shallow CNN's layers-----\n",
      "odict_keys(['features.0.weight', 'features.0.bias', 'features.2.weight', 'features.2.bias', 'features.5.weight', 'features.5.bias', 'features.7.weight', 'features.7.bias'])\n",
      "-----Filtered layers-----\n",
      "update only this layers\n",
      "dict_keys(['features.0.weight', 'features.0.bias', 'features.2.weight', 'features.2.bias', 'features.5.weight', 'features.5.bias', 'features.7.weight', 'features.7.bias'])\n"
     ]
    }
   ],
   "source": [
    "# Load pretrained VGG16's weight\n",
    "vgg_dict = vgg16.state_dict()\n",
    "print(\"-----VGG16's layers-----\")\n",
    "print(vgg_dict.keys())\n",
    "\n",
    "shallow_dict = shallowCNN.state_dict()\n",
    "print(\"-----Shallow CNN's layers-----\")\n",
    "print(shallow_dict.keys())\n",
    "\n",
    "pretrained_dict = {k: v for k, v in vgg_dict.items() if k in shallow_dict}\n",
    "print(\"-----Filtered layers-----\")\n",
    "print(\"update only this layers\")\n",
    "print(pretrained_dict.keys())\n",
    "\n",
    "shallow_dict.update(pretrained_dict) "
   ]
  },
  {
   "cell_type": "code",
   "execution_count": 49,
   "metadata": {},
   "outputs": [
    {
     "name": "stdout",
     "output_type": "stream",
     "text": [
      "torch.Size([128])\n",
      "tensor([7.2555e+00, 4.8985e-02, 3.8492e-01, 1.4317e+00, 3.4436e+00, 0.0000e+00,\n",
      "        1.4937e+00, 2.7819e-02, 3.7448e+00, 9.6746e-01, 7.1532e+00, 2.5898e+00,\n",
      "        3.2852e-03, 2.5271e-02, 1.3415e+00, 6.0928e-01, 1.8503e-01, 4.9054e-02,\n",
      "        2.0477e-03, 4.4897e+00, 3.2683e-03, 1.6110e-03, 1.1250e-01, 9.8819e-02,\n",
      "        0.0000e+00, 4.0479e-01, 9.4730e+00, 4.2584e-02, 5.1130e+00, 4.4799e-02,\n",
      "        8.0742e-03, 1.6708e-02, 1.6456e-03, 6.9410e+00, 1.8681e-02, 4.4142e+00,\n",
      "        2.8696e-03, 0.0000e+00, 4.1467e-02, 1.5366e-04, 1.4220e-02, 2.3933e-02,\n",
      "        2.8302e+00, 2.0717e+00, 2.4845e-02, 9.9305e+00, 1.9894e-02, 9.2752e-03,\n",
      "        9.7521e-01, 2.7569e+00, 1.9858e+00, 1.8247e-02, 4.8091e+00, 2.7693e-02,\n",
      "        6.2683e+00, 4.5448e-02, 2.3253e-03, 2.4652e-04, 3.9430e-01, 0.0000e+00,\n",
      "        1.9213e-01, 0.0000e+00, 5.1409e+00, 8.6206e-06, 4.7371e+00, 1.9745e+00,\n",
      "        5.1371e+00, 9.2254e-04, 5.1419e-03, 6.1720e+00, 1.3487e-02, 2.6406e+00,\n",
      "        8.2571e+00, 3.4614e+00, 4.1551e+00, 4.5316e-02, 2.2245e+00, 6.5304e+00,\n",
      "        1.3543e-02, 9.8700e-03, 2.1805e-02, 3.8120e+00, 7.6417e+00, 4.8104e+00,\n",
      "        2.4572e+00, 6.3142e-05, 8.0817e-02, 2.2293e-02, 4.4952e+00, 2.4270e-05,\n",
      "        1.3398e+00, 4.2161e+00, 4.3489e-03, 3.5541e-02, 1.5352e-02, 5.3554e+00,\n",
      "        3.9749e+00, 1.1858e+01, 3.3486e+00, 3.0045e+00, 9.2406e-01, 8.0681e-03,\n",
      "        6.2963e-02, 3.4318e+00, 5.2511e+00, 1.6980e+00, 7.9157e+00, 1.1355e-02,\n",
      "        4.6988e+00, 5.6381e+00, 4.6290e-01, 2.0985e+00, 8.5410e+00, 3.1401e+00,\n",
      "        4.9089e-02, 5.2559e+00, 1.0905e-02, 3.0074e-02, 5.0921e+00, 1.4863e-01,\n",
      "        7.2097e+00, 5.9130e-01, 1.8413e-01, 1.9733e+00, 2.1654e-04, 0.0000e+00,\n",
      "        6.8249e-01, 6.2517e-03], grad_fn=<SqueezeBackward0>)\n"
     ]
    }
   ],
   "source": [
    "# Test model working\n",
    "import cv2\n",
    "import numpy as np\n",
    "import torch\n",
    "\n",
    "sampleImage = cv2.imread(\"./Plant_leave_diseases_dataset_with_augmentation/Apple___Apple_scab/image (1).JPG\")\n",
    "sampleImage = np.transpose(sampleImage, (2, 0, 1))\n",
    "sampleImage = torch.Tensor(sampleImage)\n",
    "\n",
    "output = shallowCNN(sampleImage)\n",
    "print(output.shape)\n",
    "print(output)"
   ]
  },
  {
   "cell_type": "code",
   "execution_count": 50,
   "metadata": {},
   "outputs": [
    {
     "name": "stdout",
     "output_type": "stream",
     "text": [
      "[0.]\n"
     ]
    },
    {
     "name": "stderr",
     "output_type": "stream",
     "text": [
      "/Users/wonseo/miniforge3/envs/ml/lib/python3.8/site-packages/sklearn/decomposition/_pca.py:525: RuntimeWarning: invalid value encountered in divide\n",
      "  explained_variance_ = (S**2) / (n_samples - 1)\n"
     ]
    },
    {
     "data": {
      "text/plain": [
       "array([0.])"
      ]
     },
     "execution_count": 50,
     "metadata": {},
     "output_type": "execute_result"
    }
   ],
   "source": [
    "# PCA: 99% reserved variance\n",
    "from sklearn.decomposition import PCA\n",
    "from torch import detach\n",
    "\n",
    "output = output.detach()\n",
    "output = output.numpy()\n",
    "pca = PCA(n_components=0.99)\n",
    "output_pca = pca.fit_transform(output.reshape(1, -1))"
   ]
  },
  {
   "cell_type": "code",
   "execution_count": 10,
   "metadata": {},
   "outputs": [
    {
     "ename": "TypeError",
     "evalue": "Singleton array array(1) cannot be considered a valid collection.",
     "output_type": "error",
     "traceback": [
      "\u001b[0;31m---------------------------------------------------------------------------\u001b[0m",
      "\u001b[0;31mTypeError\u001b[0m                                 Traceback (most recent call last)",
      "Cell \u001b[0;32mIn [10], line 10\u001b[0m\n\u001b[1;32m      8\u001b[0m rcf \u001b[39m=\u001b[39m RandomForestClassifier()\n\u001b[1;32m      9\u001b[0m clf_RF \u001b[39m=\u001b[39m RandomForestClassifier(random_state\u001b[39m=\u001b[39m\u001b[39m123\u001b[39m)\n\u001b[0;32m---> 10\u001b[0m clf_RF\u001b[39m.\u001b[39;49mfit(x_train,y_train)\n",
      "File \u001b[0;32m~/miniforge3/envs/ml/lib/python3.8/site-packages/sklearn/ensemble/_forest.py:331\u001b[0m, in \u001b[0;36mBaseForest.fit\u001b[0;34m(self, X, y, sample_weight)\u001b[0m\n\u001b[1;32m    329\u001b[0m \u001b[39mif\u001b[39;00m issparse(y):\n\u001b[1;32m    330\u001b[0m     \u001b[39mraise\u001b[39;00m \u001b[39mValueError\u001b[39;00m(\u001b[39m\"\u001b[39m\u001b[39msparse multilabel-indicator for y is not supported.\u001b[39m\u001b[39m\"\u001b[39m)\n\u001b[0;32m--> 331\u001b[0m X, y \u001b[39m=\u001b[39m \u001b[39mself\u001b[39;49m\u001b[39m.\u001b[39;49m_validate_data(\n\u001b[1;32m    332\u001b[0m     X, y, multi_output\u001b[39m=\u001b[39;49m\u001b[39mTrue\u001b[39;49;00m, accept_sparse\u001b[39m=\u001b[39;49m\u001b[39m\"\u001b[39;49m\u001b[39mcsc\u001b[39;49m\u001b[39m\"\u001b[39;49m, dtype\u001b[39m=\u001b[39;49mDTYPE\n\u001b[1;32m    333\u001b[0m )\n\u001b[1;32m    334\u001b[0m \u001b[39mif\u001b[39;00m sample_weight \u001b[39mis\u001b[39;00m \u001b[39mnot\u001b[39;00m \u001b[39mNone\u001b[39;00m:\n\u001b[1;32m    335\u001b[0m     sample_weight \u001b[39m=\u001b[39m _check_sample_weight(sample_weight, X)\n",
      "File \u001b[0;32m~/miniforge3/envs/ml/lib/python3.8/site-packages/sklearn/base.py:596\u001b[0m, in \u001b[0;36mBaseEstimator._validate_data\u001b[0;34m(self, X, y, reset, validate_separately, **check_params)\u001b[0m\n\u001b[1;32m    594\u001b[0m         y \u001b[39m=\u001b[39m check_array(y, input_name\u001b[39m=\u001b[39m\u001b[39m\"\u001b[39m\u001b[39my\u001b[39m\u001b[39m\"\u001b[39m, \u001b[39m*\u001b[39m\u001b[39m*\u001b[39mcheck_y_params)\n\u001b[1;32m    595\u001b[0m     \u001b[39melse\u001b[39;00m:\n\u001b[0;32m--> 596\u001b[0m         X, y \u001b[39m=\u001b[39m check_X_y(X, y, \u001b[39m*\u001b[39;49m\u001b[39m*\u001b[39;49mcheck_params)\n\u001b[1;32m    597\u001b[0m     out \u001b[39m=\u001b[39m X, y\n\u001b[1;32m    599\u001b[0m \u001b[39mif\u001b[39;00m \u001b[39mnot\u001b[39;00m no_val_X \u001b[39mand\u001b[39;00m check_params\u001b[39m.\u001b[39mget(\u001b[39m\"\u001b[39m\u001b[39mensure_2d\u001b[39m\u001b[39m\"\u001b[39m, \u001b[39mTrue\u001b[39;00m):\n",
      "File \u001b[0;32m~/miniforge3/envs/ml/lib/python3.8/site-packages/sklearn/utils/validation.py:1090\u001b[0m, in \u001b[0;36mcheck_X_y\u001b[0;34m(X, y, accept_sparse, accept_large_sparse, dtype, order, copy, force_all_finite, ensure_2d, allow_nd, multi_output, ensure_min_samples, ensure_min_features, y_numeric, estimator)\u001b[0m\n\u001b[1;32m   1070\u001b[0m     \u001b[39mraise\u001b[39;00m \u001b[39mValueError\u001b[39;00m(\n\u001b[1;32m   1071\u001b[0m         \u001b[39mf\u001b[39m\u001b[39m\"\u001b[39m\u001b[39m{\u001b[39;00mestimator_name\u001b[39m}\u001b[39;00m\u001b[39m requires y to be passed, but the target y is None\u001b[39m\u001b[39m\"\u001b[39m\n\u001b[1;32m   1072\u001b[0m     )\n\u001b[1;32m   1074\u001b[0m X \u001b[39m=\u001b[39m check_array(\n\u001b[1;32m   1075\u001b[0m     X,\n\u001b[1;32m   1076\u001b[0m     accept_sparse\u001b[39m=\u001b[39maccept_sparse,\n\u001b[0;32m   (...)\u001b[0m\n\u001b[1;32m   1087\u001b[0m     input_name\u001b[39m=\u001b[39m\u001b[39m\"\u001b[39m\u001b[39mX\u001b[39m\u001b[39m\"\u001b[39m,\n\u001b[1;32m   1088\u001b[0m )\n\u001b[0;32m-> 1090\u001b[0m y \u001b[39m=\u001b[39m _check_y(y, multi_output\u001b[39m=\u001b[39;49mmulti_output, y_numeric\u001b[39m=\u001b[39;49my_numeric, estimator\u001b[39m=\u001b[39;49mestimator)\n\u001b[1;32m   1092\u001b[0m check_consistent_length(X, y)\n\u001b[1;32m   1094\u001b[0m \u001b[39mreturn\u001b[39;00m X, y\n",
      "File \u001b[0;32m~/miniforge3/envs/ml/lib/python3.8/site-packages/sklearn/utils/validation.py:1100\u001b[0m, in \u001b[0;36m_check_y\u001b[0;34m(y, multi_output, y_numeric, estimator)\u001b[0m\n\u001b[1;32m   1098\u001b[0m \u001b[39m\"\"\"Isolated part of check_X_y dedicated to y validation\"\"\"\u001b[39;00m\n\u001b[1;32m   1099\u001b[0m \u001b[39mif\u001b[39;00m multi_output:\n\u001b[0;32m-> 1100\u001b[0m     y \u001b[39m=\u001b[39m check_array(\n\u001b[1;32m   1101\u001b[0m         y,\n\u001b[1;32m   1102\u001b[0m         accept_sparse\u001b[39m=\u001b[39;49m\u001b[39m\"\u001b[39;49m\u001b[39mcsr\u001b[39;49m\u001b[39m\"\u001b[39;49m,\n\u001b[1;32m   1103\u001b[0m         force_all_finite\u001b[39m=\u001b[39;49m\u001b[39mTrue\u001b[39;49;00m,\n\u001b[1;32m   1104\u001b[0m         ensure_2d\u001b[39m=\u001b[39;49m\u001b[39mFalse\u001b[39;49;00m,\n\u001b[1;32m   1105\u001b[0m         dtype\u001b[39m=\u001b[39;49m\u001b[39mNone\u001b[39;49;00m,\n\u001b[1;32m   1106\u001b[0m         input_name\u001b[39m=\u001b[39;49m\u001b[39m\"\u001b[39;49m\u001b[39my\u001b[39;49m\u001b[39m\"\u001b[39;49m,\n\u001b[1;32m   1107\u001b[0m         estimator\u001b[39m=\u001b[39;49mestimator,\n\u001b[1;32m   1108\u001b[0m     )\n\u001b[1;32m   1109\u001b[0m \u001b[39melse\u001b[39;00m:\n\u001b[1;32m   1110\u001b[0m     estimator_name \u001b[39m=\u001b[39m _check_estimator_name(estimator)\n",
      "File \u001b[0;32m~/miniforge3/envs/ml/lib/python3.8/site-packages/sklearn/utils/validation.py:907\u001b[0m, in \u001b[0;36mcheck_array\u001b[0;34m(array, accept_sparse, accept_large_sparse, dtype, order, copy, force_all_finite, ensure_2d, allow_nd, ensure_min_samples, ensure_min_features, estimator, input_name)\u001b[0m\n\u001b[1;32m    899\u001b[0m         _assert_all_finite(\n\u001b[1;32m    900\u001b[0m             array,\n\u001b[1;32m    901\u001b[0m             input_name\u001b[39m=\u001b[39minput_name,\n\u001b[1;32m    902\u001b[0m             estimator_name\u001b[39m=\u001b[39mestimator_name,\n\u001b[1;32m    903\u001b[0m             allow_nan\u001b[39m=\u001b[39mforce_all_finite \u001b[39m==\u001b[39m \u001b[39m\"\u001b[39m\u001b[39mallow-nan\u001b[39m\u001b[39m\"\u001b[39m,\n\u001b[1;32m    904\u001b[0m         )\n\u001b[1;32m    906\u001b[0m \u001b[39mif\u001b[39;00m ensure_min_samples \u001b[39m>\u001b[39m \u001b[39m0\u001b[39m:\n\u001b[0;32m--> 907\u001b[0m     n_samples \u001b[39m=\u001b[39m _num_samples(array)\n\u001b[1;32m    908\u001b[0m     \u001b[39mif\u001b[39;00m n_samples \u001b[39m<\u001b[39m ensure_min_samples:\n\u001b[1;32m    909\u001b[0m         \u001b[39mraise\u001b[39;00m \u001b[39mValueError\u001b[39;00m(\n\u001b[1;32m    910\u001b[0m             \u001b[39m\"\u001b[39m\u001b[39mFound array with \u001b[39m\u001b[39m%d\u001b[39;00m\u001b[39m sample(s) (shape=\u001b[39m\u001b[39m%s\u001b[39;00m\u001b[39m) while a\u001b[39m\u001b[39m\"\u001b[39m\n\u001b[1;32m    911\u001b[0m             \u001b[39m\"\u001b[39m\u001b[39m minimum of \u001b[39m\u001b[39m%d\u001b[39;00m\u001b[39m is required\u001b[39m\u001b[39m%s\u001b[39;00m\u001b[39m.\u001b[39m\u001b[39m\"\u001b[39m\n\u001b[1;32m    912\u001b[0m             \u001b[39m%\u001b[39m (n_samples, array\u001b[39m.\u001b[39mshape, ensure_min_samples, context)\n\u001b[1;32m    913\u001b[0m         )\n",
      "File \u001b[0;32m~/miniforge3/envs/ml/lib/python3.8/site-packages/sklearn/utils/validation.py:325\u001b[0m, in \u001b[0;36m_num_samples\u001b[0;34m(x)\u001b[0m\n\u001b[1;32m    323\u001b[0m \u001b[39mif\u001b[39;00m \u001b[39mhasattr\u001b[39m(x, \u001b[39m\"\u001b[39m\u001b[39mshape\u001b[39m\u001b[39m\"\u001b[39m) \u001b[39mand\u001b[39;00m x\u001b[39m.\u001b[39mshape \u001b[39mis\u001b[39;00m \u001b[39mnot\u001b[39;00m \u001b[39mNone\u001b[39;00m:\n\u001b[1;32m    324\u001b[0m     \u001b[39mif\u001b[39;00m \u001b[39mlen\u001b[39m(x\u001b[39m.\u001b[39mshape) \u001b[39m==\u001b[39m \u001b[39m0\u001b[39m:\n\u001b[0;32m--> 325\u001b[0m         \u001b[39mraise\u001b[39;00m \u001b[39mTypeError\u001b[39;00m(\n\u001b[1;32m    326\u001b[0m             \u001b[39m\"\u001b[39m\u001b[39mSingleton array \u001b[39m\u001b[39m%r\u001b[39;00m\u001b[39m cannot be considered a valid collection.\u001b[39m\u001b[39m\"\u001b[39m \u001b[39m%\u001b[39m x\n\u001b[1;32m    327\u001b[0m         )\n\u001b[1;32m    328\u001b[0m     \u001b[39m# Check that shape is returning an integer or default to len\u001b[39;00m\n\u001b[1;32m    329\u001b[0m     \u001b[39m# Dask dataframes may not return numeric shape[0] value\u001b[39;00m\n\u001b[1;32m    330\u001b[0m     \u001b[39mif\u001b[39;00m \u001b[39misinstance\u001b[39m(x\u001b[39m.\u001b[39mshape[\u001b[39m0\u001b[39m], numbers\u001b[39m.\u001b[39mIntegral):\n",
      "\u001b[0;31mTypeError\u001b[0m: Singleton array array(1) cannot be considered a valid collection."
     ]
    }
   ],
   "source": [
    "# Random Foreset\n",
    "from sklearn.ensemble import RandomForestClassifier\n",
    "from sklearn.metrics import confusion_matrix, classification_report, accuracy_score, recall_score, precision_score, f1_score\n",
    "\n",
    "x_train = ...\n",
    "y_train = ...\n",
    "x_test = ...\n",
    "y_test = ...\n",
    "\n",
    "randomForest = RandomForestClassifier(random_state=123)\n",
    "randomForest.fit(x_train,y_train)\n",
    "y_pred_rf = randomForest.predict(x_test)\n",
    "\n",
    "print(\"-----Random Forest result-----\")\n",
    "print(\"accuracy is \", accuracy_score(y_test, y_pred_rf))\n",
    "print(\"recall is \", recall_score(y_test, y_pred_rf))\n",
    "print(\"precision is \", precision_score(y_test, y_pred_rf))\n",
    "print(\"f1 is \", f1_score(y_test, y_pred_rf))\n",
    "\n",
    "# SVM: Gaussian kernel\n",
    "from sklearn import svm\n",
    "\n",
    "svm = svm.SVC(kernel=\"rbf\")\n",
    "svm.fit(x_train, y_train)\n",
    "y_pred_svm = svm.predict(x_test)\n",
    "\n",
    "print(\"-----SVM result-----\")\n",
    "print(\"accuracy is \", accuracy_score(y_test, y_pred_svm))\n",
    "print(\"recall is \", recall_score(y_test, y_pred_svm))\n",
    "print(\"precision is \", precision_score(y_test, y_pred_svm))\n",
    "print(\"f1 is \", f1_score(y_test, y_pred_svm))"
   ]
  },
  {
   "cell_type": "code",
   "execution_count": 1,
   "metadata": {},
   "outputs": [
    {
     "name": "stderr",
     "output_type": "stream",
     "text": [
      "/Users/wonseo/miniforge3/envs/ml/lib/python3.8/site-packages/tqdm/auto.py:22: TqdmWarning: IProgress not found. Please update jupyter and ipywidgets. See https://ipywidgets.readthedocs.io/en/stable/user_install.html\n",
      "  from .autonotebook import tqdm as notebook_tqdm\n"
     ]
    }
   ],
   "source": [
    "from model import ShallowVGG\n",
    "\n",
    "shallowVGG = ShallowVGG()"
   ]
  },
  {
   "cell_type": "code",
   "execution_count": 16,
   "metadata": {},
   "outputs": [
    {
     "name": "stdout",
     "output_type": "stream",
     "text": [
      "torch.Size([1, 39])\n",
      "tensor([[1.7687e-07, 1.7687e-07, 1.7687e-07, 1.7687e-07, 1.7687e-07, 1.7687e-07,\n",
      "         1.7687e-07, 1.7687e-07, 1.7687e-07, 1.7687e-07, 1.7687e-07, 1.7687e-07,\n",
      "         1.7687e-07, 1.7687e-07, 1.7687e-07, 1.7687e-07, 1.7687e-07, 1.7687e-07,\n",
      "         1.7687e-07, 1.7687e-07, 1.7687e-07, 1.7687e-07, 1.7687e-07, 1.7687e-07,\n",
      "         1.7687e-07, 1.7687e-07, 1.7687e-07, 1.6659e-01, 1.7687e-07, 1.7687e-07,\n",
      "         1.7687e-07, 1.7687e-07, 1.7687e-07, 1.7687e-07, 1.7687e-07, 8.3341e-01,\n",
      "         1.7687e-07, 1.7687e-07, 1.7687e-07]], grad_fn=<SoftmaxBackward0>)\n",
      "36\n"
     ]
    }
   ],
   "source": [
    "# Test model working\n",
    "import cv2\n",
    "import numpy as np\n",
    "import torch\n",
    "\n",
    "sampleImage = cv2.imread(\"./Plant_leave_diseases_dataset_with_augmentation/Apple___Apple_scab/image (1).JPG\")\n",
    "sampleImage = np.transpose(sampleImage, (2, 0, 1))\n",
    "sampleImage = torch.Tensor(sampleImage)\n",
    "\n",
    "output = shallowVGG(sampleImage)\n",
    "print(output.shape)\n",
    "print(output)\n",
    "print(torch.argmax(output).item()+1)"
   ]
  }
 ],
 "metadata": {
  "kernelspec": {
   "display_name": "Python 3.8.13 64-bit ('ml')",
   "language": "python",
   "name": "python3"
  },
  "language_info": {
   "codemirror_mode": {
    "name": "ipython",
    "version": 3
   },
   "file_extension": ".py",
   "mimetype": "text/x-python",
   "name": "python",
   "nbconvert_exporter": "python",
   "pygments_lexer": "ipython3",
   "version": "3.8.13"
  },
  "orig_nbformat": 4,
  "vscode": {
   "interpreter": {
    "hash": "3696ecc4b824f1bd4c7992f6d86c4cbb45e17a13871a49c596ddc8caf4cc09bd"
   }
  }
 },
 "nbformat": 4,
 "nbformat_minor": 2
}
