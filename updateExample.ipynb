{
 "cells": [
  {
   "cell_type": "code",
   "execution_count": 3,
   "metadata": {},
   "outputs": [],
   "source": [
    "from model import ShallowCNN\n",
    "import torchvision\n",
    "\n",
    "# vgg16\n",
    "vgg16 = torchvision.models.vgg16()\n",
    "shallowCNN = ShallowCNN()"
   ]
  },
  {
   "cell_type": "code",
   "execution_count": 8,
   "metadata": {},
   "outputs": [
    {
     "name": "stdout",
     "output_type": "stream",
     "text": [
      "VGG16's trainable parameter:  138357544\n",
      "Shallow CNN's trainable parameter:  260160\n"
     ]
    }
   ],
   "source": [
    "def count_parameters(model):\n",
    "    return sum(p.numel() for p in model.parameters() if p.requires_grad)\n",
    "print(\"VGG16's trainable parameter: \", count_parameters(vgg16))\n",
    "print(\"Shallow CNN's trainable parameter: \", count_parameters(shallowCNN))"
   ]
  },
  {
   "cell_type": "code",
   "execution_count": 6,
   "metadata": {},
   "outputs": [
    {
     "name": "stdout",
     "output_type": "stream",
     "text": [
      "-----VGG16's layers-----\n",
      "odict_keys(['features.0.weight', 'features.0.bias', 'features.2.weight', 'features.2.bias', 'features.5.weight', 'features.5.bias', 'features.7.weight', 'features.7.bias', 'features.10.weight', 'features.10.bias', 'features.12.weight', 'features.12.bias', 'features.14.weight', 'features.14.bias', 'features.17.weight', 'features.17.bias', 'features.19.weight', 'features.19.bias', 'features.21.weight', 'features.21.bias', 'features.24.weight', 'features.24.bias', 'features.26.weight', 'features.26.bias', 'features.28.weight', 'features.28.bias', 'classifier.0.weight', 'classifier.0.bias', 'classifier.3.weight', 'classifier.3.bias', 'classifier.6.weight', 'classifier.6.bias'])\n",
      "-----Shallow CNN's layers-----\n",
      "odict_keys(['features.0.weight', 'features.0.bias', 'features.2.weight', 'features.2.bias', 'features.5.weight', 'features.5.bias', 'features.7.weight', 'features.7.bias'])\n",
      "-----Filtered layers-----\n",
      "update only this layers\n",
      "dict_keys(['features.0.weight', 'features.0.bias', 'features.2.weight', 'features.2.bias', 'features.5.weight', 'features.5.bias', 'features.7.weight', 'features.7.bias'])\n"
     ]
    }
   ],
   "source": [
    "vgg_dict = vgg16.state_dict()\n",
    "print(\"-----VGG16's layers-----\")\n",
    "print(vgg_dict.keys())\n",
    "shallow_dict = shallowCNN.state_dict()\n",
    "print(\"-----Shallow CNN's layers-----\")\n",
    "print(shallow_dict.keys())\n",
    "\n",
    "pretrained_dict = {k: v for k, v in vgg_dict.items() if k in shallow_dict}\n",
    "\n",
    "print(\"-----Filtered layers-----\")\n",
    "print(\"update only this layers\")\n",
    "print(pretrained_dict.keys())\n",
    "shallow_dict.update(pretrained_dict) "
   ]
  },
  {
   "cell_type": "code",
   "execution_count": 7,
   "metadata": {},
   "outputs": [
    {
     "name": "stdout",
     "output_type": "stream",
     "text": [
      "torch.Size([128])\n"
     ]
    }
   ],
   "source": [
    "# Test model working\n",
    "import cv2\n",
    "import numpy as np\n",
    "import torch\n",
    "\n",
    "sampleImage = cv2.imread(\"./Plant_leave_diseases_dataset_with_augmentation/Apple___Apple_scab/image (1).JPG\")\n",
    "sampleImage = np.transpose(sampleImage, (2, 0, 1))\n",
    "sampleImage = torch.Tensor(sampleImage)\n",
    "\n",
    "output = shallowCNN(sampleImage)\n",
    "print(output.shape)"
   ]
  },
  {
   "cell_type": "code",
   "execution_count": null,
   "metadata": {},
   "outputs": [],
   "source": []
  }
 ],
 "metadata": {
  "kernelspec": {
   "display_name": "Python 3.8.13 64-bit ('ml')",
   "language": "python",
   "name": "python3"
  },
  "language_info": {
   "codemirror_mode": {
    "name": "ipython",
    "version": 3
   },
   "file_extension": ".py",
   "mimetype": "text/x-python",
   "name": "python",
   "nbconvert_exporter": "python",
   "pygments_lexer": "ipython3",
   "version": "3.8.13"
  },
  "orig_nbformat": 4,
  "vscode": {
   "interpreter": {
    "hash": "3696ecc4b824f1bd4c7992f6d86c4cbb45e17a13871a49c596ddc8caf4cc09bd"
   }
  }
 },
 "nbformat": 4,
 "nbformat_minor": 2
}
